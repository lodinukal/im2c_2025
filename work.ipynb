{
 "cells": [
  {
   "cell_type": "code",
   "execution_count": 1,
   "metadata": {},
   "outputs": [],
   "source": [
    "# lod: loading imports\n",
    "import pandas as pd\n",
    "import numpy as np\n",
    "from pandas import json_normalize\n",
    "from matplotlib import pyplot as plt\n",
    "import json\n",
    "import codecs"
   ]
  },
  {
   "cell_type": "code",
   "execution_count": 2,
   "metadata": {},
   "outputs": [],
   "source": [
    "# lod: https://stackoverflow.com/questions/21104592/json-to-pandas-dataframe\n",
    "# loading the cities.json file into a pandas dataframe (like a table)\n",
    "df = None\n",
    "with codecs.open(\"cities.json\", encoding=\"utf-8\", mode=\"r\") as read_file:\n",
    "    data = json.load(read_file)\n",
    "    df = json_normalize(data)\n",
    "\n",
    "drops = [\"id\", \"state_id\", \"state_code\", \"state_name\", \"country_id\", \"country_name\"]\n",
    "for drop in drops:\n",
    "    df.drop(drop, axis=1, inplace=True)\n",
    "\n",
    "# merge name and country_name into one column\n",
    "df[\"city\"] = df[\"name\"] + \"-\" + df[\"country_code\"]\n",
    "df.drop(\"name\", axis=1, inplace=True)\n",
    "df.drop(\"country_code\", axis=1, inplace=True)\n",
    "# move city column to the front\n",
    "cols = df.columns.tolist()\n",
    "cols = cols[-1:] + cols[:-1]\n",
    "df = df[cols]"
   ]
  },
  {
   "cell_type": "code",
   "execution_count": 3,
   "metadata": {},
   "outputs": [],
   "source": [
    "cities = [\n",
    "    \"Lubumbashi-CD\",\n",
    "    \"Casablanca-MA\",\n",
    "    \"Johannesburg-ZA\",\n",
    "]\n",
    "\n",
    "use_df = df[df[\"city\"].isin(cities)]"
   ]
  },
  {
   "cell_type": "code",
   "execution_count": 4,
   "metadata": {},
   "outputs": [],
   "source": [
    "from math import radians, cos, sin, sqrt\n",
    "\n",
    "# lod: https://stackoverflow.com/questions/20654918/python-how-to-speed-up-calculation-of-distances-between-cities\n",
    "\n",
    "# Constants defined by the World Geodetic System 1984 (WGS84)\n",
    "A = 6378.137\n",
    "B = 6356.7523142\n",
    "ESQ = 6.69437999014 * 0.001\n",
    "\n",
    "\n",
    "# lod: trying to understand this, it basically makes a point in earth centered earth fixed coordinates\n",
    "# lod: https://en.wikipedia.org/wiki/ECEF\n",
    "def geodetic2ecef(lat, lon, alt=0):\n",
    "    \"\"\"Convert geodetic coordinates to ECEF.\"\"\"\n",
    "    lat, lon = radians(lat), radians(lon)\n",
    "    xi = sqrt(1 - ESQ * sin(lat))\n",
    "    x = (A / xi + alt) * cos(lat) * cos(lon)\n",
    "    y = (A / xi + alt) * cos(lat) * sin(lon)\n",
    "    z = (A / xi * (1 - ESQ) + alt) * sin(lat)\n",
    "    return x, y, z\n",
    "\n",
    "\n",
    "def euclidean_distance(distance):\n",
    "    \"\"\"Return the approximate Euclidean distance corresponding to the\n",
    "    given great circle distance (in km).\n",
    "\n",
    "    \"\"\"\n",
    "    return 2 * A * sin(distance / (2 * B))\n",
    "\n",
    "\n",
    "ecef_all_cities = [\n",
    "    geodetic2ecef(float(lat), float(lon))\n",
    "    for lat, lon in zip(df[\"latitude\"], df[\"longitude\"])\n",
    "]\n",
    "min_all = min(ecef_all_cities)\n",
    "max_all = max(ecef_all_cities)\n",
    "\n",
    "ecef_cities = [\n",
    "    geodetic2ecef(float(lat), float(lon))\n",
    "    for lat, lon in zip(use_df[\"latitude\"], use_df[\"longitude\"])\n",
    "]\n",
    "\n",
    "def distance_to(start: str, end: str) -> float:\n",
    "    \"\"\"Return the great circle distance between two cities.\"\"\"\n",
    "    start_idx = use_df.index[use_df[\"city\"] == start].tolist()[0]\n",
    "    end_idx = use_df.index[use_df[\"city\"] == end].tolist()[0]\n",
    "    start_ecef = ecef_all_cities[start_idx]\n",
    "    end_ecef = ecef_all_cities[end_idx]\n",
    "    return euclidean_distance(np.linalg.norm(np.array(start_ecef) - np.array(end_ecef)))\n"
   ]
  },
  {
   "cell_type": "code",
   "execution_count": 5,
   "metadata": {},
   "outputs": [],
   "source": [
    "# lod: we make a df with a mapping from city to city containing the distance between them\n",
    "distances = pd.DataFrame(\n",
    "    [\n",
    "        [distance_to(start, end) for end in cities]\n",
    "        for start in cities\n",
    "    ],\n",
    "    columns=cities,\n",
    "    index=cities,\n",
    ")"
   ]
  },
  {
   "cell_type": "code",
   "execution_count": 14,
   "metadata": {},
   "outputs": [],
   "source": [
    "import itertools\n",
    "\n",
    "# lod: https://stackoverflow.com/questions/104420/how-do-i-generate-all-permutations-of-a-list\n",
    "routes_uncategorised = list(itertools.permutations(cities))\n",
    "routes = dict()\n",
    "\n",
    "# lod: this works by just getting all the permutations then going through from the first to the last\n",
    "# city and adding the distance between them \n",
    "for route in routes_uncategorised:\n",
    "    real_route = route[1:]\n",
    "    distance = 0\n",
    "    first = route[0]\n",
    "    previous = route[0]\n",
    "    if first not in routes:\n",
    "        routes[first] = list()\n",
    "    for index, location in enumerate(real_route):\n",
    "        distance += distances[previous][location]\n",
    "        previous = location\n",
    "    routes[first].append((route, distance))\n",
    "\n",
    "# lod: easy enough"
   ]
  },
  {
   "cell_type": "code",
   "execution_count": null,
   "metadata": {},
   "outputs": [],
   "source": [
    "# lod: https://en.wikipedia.org/wiki/Simulated_annealing\n",
    "# I have no idea what this is but I'm going to research and read about it, \n",
    "# apparently you can use it to solve the travelling salesman problem which we are kind of doing"
   ]
  },
  {
   "cell_type": "code",
   "execution_count": null,
   "metadata": {},
   "outputs": [],
   "source": [
    "# lod: using plotly to plot the cities in 3d\n",
    "# lod: https://stackoverflow.com/questions/38364435/make-3d-plot-interactive-in-jupyter-notebook\n",
    "import plotly\n",
    "import plotly.graph_objs as go\n",
    "from plotly.graph_objs.layout import Scene\n",
    "plotly.offline.init_notebook_mode()\n",
    "trace = go.Scatter3d(\n",
    "    x=[x for x, _, _ in ecef_cities],\n",
    "    y=[y for _, y, _ in ecef_cities],\n",
    "    z=[z for _, _, z in ecef_cities],\n",
    "    mode=\"markers\",\n",
    "    marker={\n",
    "        \"size\": 5,\n",
    "    },\n",
    "    text=use_df[\"city\"],\n",
    ")\n",
    "\n",
    "layout = go.Layout(\n",
    "    title=\"Cities in ECEF\",\n",
    "    margin={\"l\": 0, \"r\": 0, \"b\": 0, \"t\": 0},\n",
    "    scene=Scene(\n",
    "        {\n",
    "            \"xaxis\": {\n",
    "                \"range\": [-8000, 8000],\n",
    "            },\n",
    "            \"yaxis\": {\n",
    "                \"range\": [-8000, 8000],\n",
    "            },\n",
    "            \"zaxis\": {\n",
    "                \"range\": [-8000, 8000],\n",
    "            },\n",
    "        }\n",
    "    ),\n",
    ")\n",
    "data = [trace]\n",
    "plot_figure = go.Figure(data=data, layout=layout)\n",
    "plotly.offline.iplot(plot_figure)"
   ]
  },
  {
   "cell_type": "code",
   "execution_count": null,
   "metadata": {},
   "outputs": [
    {
     "data": {
      "text/plain": [
       "[(5538.004288450576, 2880.3698794848005, -1279.6461728198524),\n",
       " (5276.822581202903, -700.1278042892781, 3511.418429547304),\n",
       " (5043.3709378518115, 2686.536109490775, -2793.2336178715655)]"
      ]
     },
     "execution_count": 53,
     "metadata": {},
     "output_type": "execute_result"
    }
   ],
   "source": []
  }
 ],
 "metadata": {
  "kernelspec": {
   "display_name": ".venv",
   "language": "python",
   "name": "python3"
  },
  "language_info": {
   "codemirror_mode": {
    "name": "ipython",
    "version": 3
   },
   "file_extension": ".py",
   "mimetype": "text/x-python",
   "name": "python",
   "nbconvert_exporter": "python",
   "pygments_lexer": "ipython3",
   "version": "3.13.2"
  }
 },
 "nbformat": 4,
 "nbformat_minor": 2
}
